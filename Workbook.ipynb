{
 "cells": [
  {
   "cell_type": "code",
   "execution_count": 1,
   "metadata": {},
   "outputs": [],
   "source": [
    "import pandas as pd\n",
    "import numpy as np\n",
    "import matplotlib.pyplot as plt\n",
    "import seaborn as sns"
   ]
  },
  {
   "cell_type": "code",
   "execution_count": 2,
   "metadata": {},
   "outputs": [],
   "source": [
    "url = \"https://data.cityofnewyork.us/resource/fhrw-4uyv.json?$where=created_date%20between%20%272019-03-11T00:00:00%27%20and%20%272019-03-12T00:00:00%27\"\n",
    "data = pd.read_json(url)"
   ]
  },
  {
   "cell_type": "code",
   "execution_count": 4,
   "metadata": {},
   "outputs": [
    {
     "data": {
      "text/plain": [
       "(1000, 39)"
      ]
     },
     "execution_count": 4,
     "metadata": {},
     "output_type": "execute_result"
    }
   ],
   "source": [
    "data.shape"
   ]
  },
  {
   "cell_type": "code",
   "execution_count": 5,
   "metadata": {},
   "outputs": [
    {
     "data": {
      "text/html": [
       "<div>\n",
       "<style scoped>\n",
       "    .dataframe tbody tr th:only-of-type {\n",
       "        vertical-align: middle;\n",
       "    }\n",
       "\n",
       "    .dataframe tbody tr th {\n",
       "        vertical-align: top;\n",
       "    }\n",
       "\n",
       "    .dataframe thead th {\n",
       "        text-align: right;\n",
       "    }\n",
       "</style>\n",
       "<table border=\"1\" class=\"dataframe\">\n",
       "  <thead>\n",
       "    <tr style=\"text-align: right;\">\n",
       "      <th></th>\n",
       "      <th>address_type</th>\n",
       "      <th>agency</th>\n",
       "      <th>agency_name</th>\n",
       "      <th>bbl</th>\n",
       "      <th>borough</th>\n",
       "      <th>bridge_highway_direction</th>\n",
       "      <th>bridge_highway_name</th>\n",
       "      <th>bridge_highway_segment</th>\n",
       "      <th>city</th>\n",
       "      <th>closed_date</th>\n",
       "      <th>...</th>\n",
       "      <th>resolution_action_updated_date</th>\n",
       "      <th>resolution_description</th>\n",
       "      <th>road_ramp</th>\n",
       "      <th>status</th>\n",
       "      <th>street_name</th>\n",
       "      <th>taxi_company_borough</th>\n",
       "      <th>taxi_pick_up_location</th>\n",
       "      <th>unique_key</th>\n",
       "      <th>x_coordinate_state_plane</th>\n",
       "      <th>y_coordinate_state_plane</th>\n",
       "    </tr>\n",
       "  </thead>\n",
       "  <tbody>\n",
       "    <tr>\n",
       "      <th>0</th>\n",
       "      <td>ADDRESS</td>\n",
       "      <td>DOHMH</td>\n",
       "      <td>Department of Health and Mental Hygiene</td>\n",
       "      <td>1.002240e+09</td>\n",
       "      <td>MANHATTAN</td>\n",
       "      <td>NaN</td>\n",
       "      <td>NaN</td>\n",
       "      <td>NaN</td>\n",
       "      <td>NEW YORK</td>\n",
       "      <td>2019-04-22T00:00:00.000</td>\n",
       "      <td>...</td>\n",
       "      <td>2019-03-11T09:18:36.000</td>\n",
       "      <td>The Department of Health and Mental Hygiene wi...</td>\n",
       "      <td>NaN</td>\n",
       "      <td>Closed</td>\n",
       "      <td>WATTS STREET</td>\n",
       "      <td>NaN</td>\n",
       "      <td>NaN</td>\n",
       "      <td>41935505</td>\n",
       "      <td>981542.0</td>\n",
       "      <td>203092.0</td>\n",
       "    </tr>\n",
       "    <tr>\n",
       "      <th>1</th>\n",
       "      <td>ADDRESS</td>\n",
       "      <td>DOHMH</td>\n",
       "      <td>Department of Health and Mental Hygiene</td>\n",
       "      <td>1.002240e+09</td>\n",
       "      <td>MANHATTAN</td>\n",
       "      <td>NaN</td>\n",
       "      <td>NaN</td>\n",
       "      <td>NaN</td>\n",
       "      <td>NEW YORK</td>\n",
       "      <td>2019-04-22T00:00:00.000</td>\n",
       "      <td>...</td>\n",
       "      <td>2019-03-11T11:28:43.000</td>\n",
       "      <td>The Department of Health and Mental Hygiene wi...</td>\n",
       "      <td>NaN</td>\n",
       "      <td>Closed</td>\n",
       "      <td>WATTS STREET</td>\n",
       "      <td>NaN</td>\n",
       "      <td>NaN</td>\n",
       "      <td>41929434</td>\n",
       "      <td>981542.0</td>\n",
       "      <td>203092.0</td>\n",
       "    </tr>\n",
       "    <tr>\n",
       "      <th>2</th>\n",
       "      <td>LATLONG</td>\n",
       "      <td>DOHMH</td>\n",
       "      <td>Department of Health and Mental Hygiene</td>\n",
       "      <td>NaN</td>\n",
       "      <td>QUEENS</td>\n",
       "      <td>NaN</td>\n",
       "      <td>NaN</td>\n",
       "      <td>NaN</td>\n",
       "      <td>ELMHURST</td>\n",
       "      <td>2019-04-01T00:00:00.000</td>\n",
       "      <td>...</td>\n",
       "      <td>2019-04-01T00:00:00.000</td>\n",
       "      <td>The Department of Health and Mental Hygiene wi...</td>\n",
       "      <td>NaN</td>\n",
       "      <td>Closed</td>\n",
       "      <td>45 AVENUE</td>\n",
       "      <td>NaN</td>\n",
       "      <td>NaN</td>\n",
       "      <td>41932348</td>\n",
       "      <td>1020716.0</td>\n",
       "      <td>210495.0</td>\n",
       "    </tr>\n",
       "    <tr>\n",
       "      <th>3</th>\n",
       "      <td>ADDRESS</td>\n",
       "      <td>DOHMH</td>\n",
       "      <td>Department of Health and Mental Hygiene</td>\n",
       "      <td>1.020360e+09</td>\n",
       "      <td>MANHATTAN</td>\n",
       "      <td>NaN</td>\n",
       "      <td>NaN</td>\n",
       "      <td>NaN</td>\n",
       "      <td>NEW YORK</td>\n",
       "      <td>2019-04-03T00:00:00.000</td>\n",
       "      <td>...</td>\n",
       "      <td>2019-04-03T00:00:00.000</td>\n",
       "      <td>The Department of Health and Mental Hygiene wi...</td>\n",
       "      <td>NaN</td>\n",
       "      <td>Closed</td>\n",
       "      <td>FREDRICK DOUGLASS BOULEVARD</td>\n",
       "      <td>NaN</td>\n",
       "      <td>NaN</td>\n",
       "      <td>41929359</td>\n",
       "      <td>1001052.0</td>\n",
       "      <td>240370.0</td>\n",
       "    </tr>\n",
       "    <tr>\n",
       "      <th>4</th>\n",
       "      <td>ADDRESS</td>\n",
       "      <td>DOHMH</td>\n",
       "      <td>Department of Health and Mental Hygiene</td>\n",
       "      <td>1.005260e+09</td>\n",
       "      <td>MANHATTAN</td>\n",
       "      <td>NaN</td>\n",
       "      <td>NaN</td>\n",
       "      <td>NaN</td>\n",
       "      <td>NEW YORK</td>\n",
       "      <td>2019-03-11T00:00:01.000</td>\n",
       "      <td>...</td>\n",
       "      <td>2019-03-29T11:11:03.000</td>\n",
       "      <td>The Department of Health and Mental Hygiene wi...</td>\n",
       "      <td>NaN</td>\n",
       "      <td>Closed</td>\n",
       "      <td>MACDOUGAL STREET</td>\n",
       "      <td>NaN</td>\n",
       "      <td>NaN</td>\n",
       "      <td>41936077</td>\n",
       "      <td>983869.0</td>\n",
       "      <td>204858.0</td>\n",
       "    </tr>\n",
       "  </tbody>\n",
       "</table>\n",
       "<p>5 rows × 39 columns</p>\n",
       "</div>"
      ],
      "text/plain": [
       "  address_type agency                              agency_name           bbl  \\\n",
       "0      ADDRESS  DOHMH  Department of Health and Mental Hygiene  1.002240e+09   \n",
       "1      ADDRESS  DOHMH  Department of Health and Mental Hygiene  1.002240e+09   \n",
       "2      LATLONG  DOHMH  Department of Health and Mental Hygiene           NaN   \n",
       "3      ADDRESS  DOHMH  Department of Health and Mental Hygiene  1.020360e+09   \n",
       "4      ADDRESS  DOHMH  Department of Health and Mental Hygiene  1.005260e+09   \n",
       "\n",
       "     borough bridge_highway_direction bridge_highway_name  \\\n",
       "0  MANHATTAN                      NaN                 NaN   \n",
       "1  MANHATTAN                      NaN                 NaN   \n",
       "2     QUEENS                      NaN                 NaN   \n",
       "3  MANHATTAN                      NaN                 NaN   \n",
       "4  MANHATTAN                      NaN                 NaN   \n",
       "\n",
       "  bridge_highway_segment      city              closed_date  \\\n",
       "0                    NaN  NEW YORK  2019-04-22T00:00:00.000   \n",
       "1                    NaN  NEW YORK  2019-04-22T00:00:00.000   \n",
       "2                    NaN  ELMHURST  2019-04-01T00:00:00.000   \n",
       "3                    NaN  NEW YORK  2019-04-03T00:00:00.000   \n",
       "4                    NaN  NEW YORK  2019-03-11T00:00:01.000   \n",
       "\n",
       "             ...            resolution_action_updated_date  \\\n",
       "0            ...                   2019-03-11T09:18:36.000   \n",
       "1            ...                   2019-03-11T11:28:43.000   \n",
       "2            ...                   2019-04-01T00:00:00.000   \n",
       "3            ...                   2019-04-03T00:00:00.000   \n",
       "4            ...                   2019-03-29T11:11:03.000   \n",
       "\n",
       "                              resolution_description road_ramp  status  \\\n",
       "0  The Department of Health and Mental Hygiene wi...       NaN  Closed   \n",
       "1  The Department of Health and Mental Hygiene wi...       NaN  Closed   \n",
       "2  The Department of Health and Mental Hygiene wi...       NaN  Closed   \n",
       "3  The Department of Health and Mental Hygiene wi...       NaN  Closed   \n",
       "4  The Department of Health and Mental Hygiene wi...       NaN  Closed   \n",
       "\n",
       "                   street_name taxi_company_borough taxi_pick_up_location  \\\n",
       "0                 WATTS STREET                  NaN                   NaN   \n",
       "1                 WATTS STREET                  NaN                   NaN   \n",
       "2                    45 AVENUE                  NaN                   NaN   \n",
       "3  FREDRICK DOUGLASS BOULEVARD                  NaN                   NaN   \n",
       "4             MACDOUGAL STREET                  NaN                   NaN   \n",
       "\n",
       "  unique_key x_coordinate_state_plane  y_coordinate_state_plane  \n",
       "0   41935505                 981542.0                  203092.0  \n",
       "1   41929434                 981542.0                  203092.0  \n",
       "2   41932348                1020716.0                  210495.0  \n",
       "3   41929359                1001052.0                  240370.0  \n",
       "4   41936077                 983869.0                  204858.0  \n",
       "\n",
       "[5 rows x 39 columns]"
      ]
     },
     "execution_count": 5,
     "metadata": {},
     "output_type": "execute_result"
    }
   ],
   "source": [
    "data.head()"
   ]
  },
  {
   "cell_type": "code",
   "execution_count": 6,
   "metadata": {},
   "outputs": [
    {
     "data": {
      "text/plain": [
       "Index(['address_type', 'agency', 'agency_name', 'bbl', 'borough',\n",
       "       'bridge_highway_direction', 'bridge_highway_name',\n",
       "       'bridge_highway_segment', 'city', 'closed_date', 'community_board',\n",
       "       'complaint_type', 'created_date', 'cross_street_1', 'cross_street_2',\n",
       "       'descriptor', 'due_date', 'facility_type', 'incident_address',\n",
       "       'incident_zip', 'intersection_street_1', 'intersection_street_2',\n",
       "       'latitude', 'location', 'location_type', 'longitude',\n",
       "       'open_data_channel_type', 'park_borough', 'park_facility_name',\n",
       "       'resolution_action_updated_date', 'resolution_description', 'road_ramp',\n",
       "       'status', 'street_name', 'taxi_company_borough',\n",
       "       'taxi_pick_up_location', 'unique_key', 'x_coordinate_state_plane',\n",
       "       'y_coordinate_state_plane'],\n",
       "      dtype='object')"
      ]
     },
     "execution_count": 6,
     "metadata": {},
     "output_type": "execute_result"
    }
   ],
   "source": [
    "data.columns"
   ]
  },
  {
   "cell_type": "code",
   "execution_count": 7,
   "metadata": {},
   "outputs": [
    {
     "data": {
      "text/plain": [
       "HEAT/HOT WATER                         146\n",
       "Noise - Residential                    117\n",
       "Illegal Parking                         97\n",
       "Rodent                                  91\n",
       "Street Condition                        85\n",
       "Blocked Driveway                        56\n",
       "Noise - Commercial                      39\n",
       "Request Large Bulky Item Collection     33\n",
       "UNSANITARY CONDITION                    32\n",
       "Noise - Vehicle                         25\n",
       "Noise                                   25\n",
       "Noise - Street/Sidewalk                 22\n",
       "Traffic Signal Condition                15\n",
       "Street Light Condition                  14\n",
       "Non-Emergency Police Matter             13\n",
       "Sanitation Condition                    11\n",
       "PAINT/PLASTER                           11\n",
       "Missed Collection (All Materials)       10\n",
       "DOOR/WINDOW                              8\n",
       "WATER LEAK                               8\n",
       "Derelict Vehicle                         8\n",
       "PLUMBING                                 8\n",
       "Derelict Vehicles                        8\n",
       "Dirty Conditions                         6\n",
       "Sewer                                    6\n",
       "ELECTRIC                                 6\n",
       "Electronics Waste                        6\n",
       "Water System                             5\n",
       "Unsanitary Animal Pvt Property           4\n",
       "Elevator                                 4\n",
       "                                      ... \n",
       "Overgrown Tree/Branches                  2\n",
       "Sidewalk Condition                       2\n",
       "Ferry Complaint                          2\n",
       "Homeless Encampment                      2\n",
       "Hazardous Materials                      2\n",
       "Bus Stop Shelter Complaint               2\n",
       "Collection Truck Noise                   1\n",
       "LinkNYC                                  1\n",
       "ELEVATOR                                 1\n",
       "APPLIANCE                                1\n",
       "Snow                                     1\n",
       "Senior Center Complaint                  1\n",
       "Day Care                                 1\n",
       "Homeless Person Assistance               1\n",
       "Curb Condition                           1\n",
       "Recycling Enforcement                    1\n",
       "Housing - Low Income Senior              1\n",
       "Plumbing                                 1\n",
       "Electrical                               1\n",
       "Boilers                                  1\n",
       "Indoor Air Quality                       1\n",
       "Damaged Tree                             1\n",
       "Ferry Inquiry                            1\n",
       "Drinking                                 1\n",
       "Maintenance or Facility                  1\n",
       "Building/Use                             1\n",
       "Highway Condition                        1\n",
       "Water Quality                            1\n",
       "Street Sign - Damaged                    1\n",
       "Animal in a Park                         1\n",
       "Name: complaint_type, Length: 76, dtype: int64"
      ]
     },
     "execution_count": 7,
     "metadata": {},
     "output_type": "execute_result"
    }
   ],
   "source": [
    "data['complaint_type'].value_counts()"
   ]
  },
  {
   "cell_type": "code",
   "execution_count": 8,
   "metadata": {},
   "outputs": [
    {
     "data": {
      "text/plain": [
       "NYPD     387\n",
       "HPD      230\n",
       "DOT      124\n",
       "DOHMH    104\n",
       "DSNY      77\n",
       "DEP       44\n",
       "DOB       16\n",
       "DPR        7\n",
       "TLC        5\n",
       "DFTA       2\n",
       "DCA        2\n",
       "DHS        1\n",
       "DOITT      1\n",
       "Name: agency, dtype: int64"
      ]
     },
     "execution_count": 8,
     "metadata": {},
     "output_type": "execute_result"
    }
   ],
   "source": [
    "data['agency'].value_counts()"
   ]
  },
  {
   "cell_type": "code",
   "execution_count": 9,
   "metadata": {
    "collapsed": true
   },
   "outputs": [
    {
     "data": {
      "text/plain": [
       "New York City Police Department                       386\n",
       "Department of Housing Preservation and Development    230\n",
       "Department of Transportation                          124\n",
       "Department of Health and Mental Hygiene               103\n",
       "Department of Environmental Protection                 44\n",
       "Department of Sanitation                               39\n",
       "Department of Buildings                                16\n",
       "BCC - Brooklyn South                                   10\n",
       "Department of Parks and Recreation                      7\n",
       "BCC - Queens East                                       6\n",
       "BCC - Queens West                                       5\n",
       "Taxi and Limousine Commission                           5\n",
       "A - Brooklyn                                            3\n",
       "Department for the Aging                                2\n",
       "Department of Consumer Affairs                          2\n",
       "A - Manhattan                                           1\n",
       "Bronx 11                                                1\n",
       "Bronx 03                                                1\n",
       "Brooklyn North 03                                       1\n",
       "BCC - Brooklyn North                                    1\n",
       "A - Bronx                                               1\n",
       "A - Queens                                              1\n",
       "A - Canine Task Force Citywide                          1\n",
       "Queens West 02                                          1\n",
       "Bronx 08                                                1\n",
       "LinkNYC Unit                                            1\n",
       "Traffic Management Center                               1\n",
       "Queens West 04                                          1\n",
       "Manhattan 08                                            1\n",
       "Operations Unit - Department of Homeless Services       1\n",
       "BCC - Staten Island                                     1\n",
       "BCC - Bronx                                             1\n",
       "Child Care and Camps Complaint Unit                     1\n",
       "Name: agency_name, dtype: int64"
      ]
     },
     "execution_count": 9,
     "metadata": {},
     "output_type": "execute_result"
    }
   ],
   "source": [
    "data['agency_name'].value_counts()"
   ]
  },
  {
   "cell_type": "code",
   "execution_count": 11,
   "metadata": {},
   "outputs": [
    {
     "data": {
      "text/plain": [
       "Noise - Residential            117\n",
       "Illegal Parking                 97\n",
       "Blocked Driveway                56\n",
       "Noise - Commercial              39\n",
       "Noise - Vehicle                 25\n",
       "Noise - Street/Sidewalk         22\n",
       "Non-Emergency Police Matter     13\n",
       "Derelict Vehicle                 8\n",
       "Traffic                          4\n",
       "Animal Abuse                     3\n",
       "Homeless Encampment              2\n",
       "Drinking                         1\n",
       "Name: complaint_type, dtype: int64"
      ]
     },
     "execution_count": 11,
     "metadata": {},
     "output_type": "execute_result"
    }
   ],
   "source": [
    "data['complaint_type'][data['agency']=='NYPD'].value_counts()"
   ]
  },
  {
   "cell_type": "code",
   "execution_count": 12,
   "metadata": {},
   "outputs": [
    {
     "data": {
      "text/plain": [
       "HEAT/HOT WATER            146\n",
       "UNSANITARY CONDITION       32\n",
       "PAINT/PLASTER              11\n",
       "DOOR/WINDOW                 8\n",
       "WATER LEAK                  8\n",
       "PLUMBING                    8\n",
       "ELECTRIC                    6\n",
       "FLOORING/STAIRS             4\n",
       "GENERAL                     3\n",
       "HPD Literature Request      2\n",
       "APPLIANCE                   1\n",
       "ELEVATOR                    1\n",
       "Name: complaint_type, dtype: int64"
      ]
     },
     "execution_count": 12,
     "metadata": {},
     "output_type": "execute_result"
    }
   ],
   "source": [
    "data['complaint_type'][data['agency']=='HPD'].value_counts()"
   ]
  },
  {
   "cell_type": "code",
   "execution_count": 13,
   "metadata": {},
   "outputs": [
    {
     "data": {
      "text/plain": [
       "Street Condition              85\n",
       "Traffic Signal Condition      15\n",
       "Street Light Condition        14\n",
       "Ferry Complaint                2\n",
       "Bus Stop Shelter Complaint     2\n",
       "Sidewalk Condition             2\n",
       "Curb Condition                 1\n",
       "Street Sign - Damaged          1\n",
       "Ferry Inquiry                  1\n",
       "Highway Condition              1\n",
       "Name: complaint_type, dtype: int64"
      ]
     },
     "execution_count": 13,
     "metadata": {},
     "output_type": "execute_result"
    }
   ],
   "source": [
    "data['complaint_type'][data['agency']=='DOT'].value_counts()"
   ]
  },
  {
   "cell_type": "code",
   "execution_count": 14,
   "metadata": {},
   "outputs": [
    {
     "data": {
      "text/plain": [
       "Rodent                            91\n",
       "Food Poisoning                     4\n",
       "Unsanitary Animal Pvt Property     4\n",
       "Food Establishment                 3\n",
       "Day Care                           1\n",
       "Indoor Air Quality                 1\n",
       "Name: complaint_type, dtype: int64"
      ]
     },
     "execution_count": 14,
     "metadata": {},
     "output_type": "execute_result"
    }
   ],
   "source": [
    "data['complaint_type'][data['agency']=='DOHMH'].value_counts()"
   ]
  },
  {
   "cell_type": "code",
   "execution_count": 18,
   "metadata": {},
   "outputs": [
    {
     "data": {
      "text/plain": [
       "[BROOKLYN         360\n",
       " QUEENS           219\n",
       " BRONX            185\n",
       " MANHATTAN        182\n",
       " STATEN ISLAND     44\n",
       " Unspecified       10\n",
       " Name: borough, dtype: int64]"
      ]
     },
     "execution_count": 18,
     "metadata": {},
     "output_type": "execute_result"
    }
   ],
   "source": [
    "[data['borough'].value_counts()]"
   ]
  },
  {
   "cell_type": "code",
   "execution_count": 28,
   "metadata": {},
   "outputs": [
    {
     "data": {
      "text/plain": [
       "HEAT/HOT WATER                         66\n",
       "Illegal Parking                        47\n",
       "Rodent                                 32\n",
       "Noise - Residential                    27\n",
       "Blocked Driveway                       23\n",
       "UNSANITARY CONDITION                   22\n",
       "Street Condition                       21\n",
       "Request Large Bulky Item Collection    16\n",
       "WATER LEAK                              8\n",
       "Noise - Commercial                      8\n",
       "Traffic Signal Condition                7\n",
       "PLUMBING                                7\n",
       "Noise                                   6\n",
       "PAINT/PLASTER                           6\n",
       "DOOR/WINDOW                             5\n",
       "Noise - Street/Sidewalk                 5\n",
       "Sanitation Condition                    5\n",
       "FLOORING/STAIRS                         4\n",
       "Derelict Vehicles                       4\n",
       "ELECTRIC                                4\n",
       "Derelict Vehicle                        4\n",
       "Noise - Vehicle                         3\n",
       "Electronics Waste                       3\n",
       "Street Light Condition                  3\n",
       "Missed Collection (All Materials)       3\n",
       "Air Quality                             2\n",
       "Water System                            2\n",
       "Dirty Conditions                        2\n",
       "Asbestos                                2\n",
       "Recycling Enforcement                   1\n",
       "Homeless Encampment                     1\n",
       "Boilers                                 1\n",
       "Day Care                                1\n",
       "Taxi Complaint                          1\n",
       "ELEVATOR                                1\n",
       "Food Establishment                      1\n",
       "Traffic                                 1\n",
       "Unsanitary Animal Pvt Property          1\n",
       "Plumbing                                1\n",
       "Hazardous Materials                     1\n",
       "Street Sign - Damaged                   1\n",
       "Housing - Low Income Senior             1\n",
       "Name: complaint_type, dtype: int64"
      ]
     },
     "execution_count": 28,
     "metadata": {},
     "output_type": "execute_result"
    }
   ],
   "source": [
    "data['complaint_type'][data['borough']=='BROOKLYN'].value_counts()"
   ]
  },
  {
   "cell_type": "code",
   "execution_count": 21,
   "metadata": {},
   "outputs": [
    {
     "data": {
      "text/plain": [
       "The Police Department responded to the complaint and with the information available observed no evidence of the violation at that time.                                                      136\n",
       "The Police Department responded to the complaint and took action to fix the condition.                                                                                                        72\n",
       "The Police Department responded to the complaint and determined that police action was not necessary.                                                                                         50\n",
       "The Police Department issued a summons in response to the complaint.                                                                                                                          46\n",
       "The Police Department responded and upon arrival those responsible for the condition were gone.                                                                                               40\n",
       "The Police Department responded to the complaint but officers were unable to gain entry into the premises.                                                                                    19\n",
       "The Police Department reviewed your complaint and provided additional information below.                                                                                                      13\n",
       "Your request can not be processed at this time because of insufficient contact information. Please create a new Service Request on NYC.gov and provide more detailed contact information.      6\n",
       "This complaint does not fall under the Police Department's jurisdiction.                                                                                                                       4\n",
       "The Police Department responded to the complaint and a report was prepared.                                                                                                                    1\n",
       "Name: resolution_description, dtype: int64"
      ]
     },
     "execution_count": 21,
     "metadata": {},
     "output_type": "execute_result"
    }
   ],
   "source": [
    "data['resolution_description'][data['agency']=='NYPD'].value_counts()"
   ]
  },
  {
   "cell_type": "code",
   "execution_count": null,
   "metadata": {},
   "outputs": [],
   "source": []
  }
 ],
 "metadata": {
  "kernelspec": {
   "display_name": "Python 3",
   "language": "python",
   "name": "python3"
  },
  "language_info": {
   "codemirror_mode": {
    "name": "ipython",
    "version": 3
   },
   "file_extension": ".py",
   "mimetype": "text/x-python",
   "name": "python",
   "nbconvert_exporter": "python",
   "pygments_lexer": "ipython3",
   "version": "3.7.1"
  }
 },
 "nbformat": 4,
 "nbformat_minor": 2
}
